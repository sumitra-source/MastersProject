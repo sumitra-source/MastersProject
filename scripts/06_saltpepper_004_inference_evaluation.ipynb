{
 "cells": [
  {
   "cell_type": "code",
   "execution_count": null,
   "metadata": {},
   "outputs": [],
   "source": [
    "import os\n",
    "import cv2\n",
    "import torch\n",
    "import numpy as np\n",
    "from tqdm import tqdm\n",
    "from PIL import Image\n",
    "import matplotlib.pyplot as plt\n",
    "\n",
    "# Paths\n",
    "input_dir = \"../Datasets/Mask_rcnn_validation_dataset/Images\"\n",
    "noisy_dir = \"../Datasets/Degraded_SaltPepper_004\"\n",
    "pred_dir = \"../Datasets/Predicted_Masks_SaltPepper004\"\n",
    "gt_dir = \"../Datasets/Mask_rcnn_validation_dataset/Annotations\"\n",
    "model_path = \"../Leaf_Segmentation_MaskedRCNN_7_7_2022_8h.h5\"\n",
    "\n",
    "os.makedirs(noisy_dir, exist_ok=True)\n",
    "os.makedirs(pred_dir, exist_ok=True)\n"
   ]
  },
  {
   "cell_type": "code",
   "execution_count": 2,
   "metadata": {},
   "outputs": [
    {
     "name": "stderr",
     "output_type": "stream",
     "text": [
      "100%|██████████| 53/53 [00:01<00:00, 28.01it/s]\n"
     ]
    }
   ],
   "source": [
    "def add_salt_pepper_noise(image, prob):\n",
    "    noisy = image.copy()\n",
    "    total_pixels = image.shape[0] * image.shape[1]\n",
    "    num_salt = int(prob * total_pixels / 2)\n",
    "    num_pepper = int(prob * total_pixels / 2)\n",
    "\n",
    "    for _ in range(num_salt):\n",
    "        y, x = np.random.randint(0, image.shape[0]), np.random.randint(0, image.shape[1])\n",
    "        noisy[y, x] = [255, 255, 255]\n",
    "\n",
    "    for _ in range(num_pepper):\n",
    "        y, x = np.random.randint(0, image.shape[0]), np.random.randint(0, image.shape[1])\n",
    "        noisy[y, x] = [0, 0, 0]\n",
    "\n",
    "    return noisy\n",
    "\n",
    "# Apply noise\n",
    "for fname in tqdm(os.listdir(input_dir)):\n",
    "    if fname.lower().endswith((\".jpg\", \".png\")):\n",
    "        img = cv2.imread(os.path.join(input_dir, fname))\n",
    "        noisy_img = add_salt_pepper_noise(img, prob=0.05)\n",
    "        cv2.imwrite(os.path.join(noisy_dir, fname), noisy_img)\n"
   ]
  }
 ],
 "metadata": {
  "kernelspec": {
   "display_name": "leaftrackenv",
   "language": "python",
   "name": "python3"
  },
  "language_info": {
   "codemirror_mode": {
    "name": "ipython",
    "version": 3
   },
   "file_extension": ".py",
   "mimetype": "text/x-python",
   "name": "python",
   "nbconvert_exporter": "python",
   "pygments_lexer": "ipython3",
   "version": "3.9.21"
  }
 },
 "nbformat": 4,
 "nbformat_minor": 2
}

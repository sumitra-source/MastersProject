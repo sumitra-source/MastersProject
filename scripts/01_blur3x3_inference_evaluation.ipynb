{
 "cells": [
  {
   "cell_type": "code",
   "execution_count": 5,
   "metadata": {},
   "outputs": [],
   "source": [
    "import os\n",
    "import cv2\n",
    "import torch\n",
    "import numpy as np\n",
    "from tqdm import tqdm\n",
    "from PIL import Image\n",
    "import matplotlib.pyplot as plt\n",
    "from sklearn.metrics import precision_score, recall_score, f1_score, jaccard_score\n",
    "\n",
    "# Directories\n",
    "input_dir = \"../Datasets/Mask_rcnn_validation_dataset/Images\"\n",
    "blurred_dir = \"../Datasets/Degraded_Blur_3x3\"\n",
    "pred_dir = \"../Datasets/Predicted_Masks_Blur3\"\n",
    "gt_dir = \"../Datasets/Mask_rcnn_validation_dataset/Annotations\"\n",
    "model_path = \"../Leaf_Segmentation_MaskedRCNN_7_7_2022_8h.h5\"\n",
    "\n",
    "# Create output folders if they don't exist\n",
    "os.makedirs(blurred_dir, exist_ok=True)\n",
    "os.makedirs(pred_dir, exist_ok=True)\n"
   ]
  },
  {
   "cell_type": "code",
   "execution_count": 6,
   "metadata": {},
   "outputs": [
    {
     "name": "stderr",
     "output_type": "stream",
     "text": [
      "100%|██████████| 53/53 [00:00<00:00, 185.49it/s]\n"
     ]
    }
   ],
   "source": [
    "def apply_gaussian_blur(img, ksize=3):\n",
    "    return cv2.GaussianBlur(img, (ksize, ksize), 0)\n",
    "\n",
    "for fname in tqdm(os.listdir(input_dir)):\n",
    "    if fname.lower().endswith((\".jpg\", \".png\")):\n",
    "        img = cv2.imread(os.path.join(input_dir, fname))\n",
    "        if img is not None:\n",
    "            blurred = apply_gaussian_blur(img)\n",
    "            cv2.imwrite(os.path.join(blurred_dir, fname), blurred)\n"
   ]
  }
 ],
 "metadata": {
  "kernelspec": {
   "display_name": "leaftrackenv",
   "language": "python",
   "name": "python3"
  },
  "language_info": {
   "codemirror_mode": {
    "name": "ipython",
    "version": 3
   },
   "file_extension": ".py",
   "mimetype": "text/x-python",
   "name": "python",
   "nbconvert_exporter": "python",
   "pygments_lexer": "ipython3",
   "version": "3.9.21"
  }
 },
 "nbformat": 4,
 "nbformat_minor": 2
}
